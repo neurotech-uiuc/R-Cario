{
 "cells": [
  {
   "cell_type": "code",
   "execution_count": 1,
   "metadata": {},
   "outputs": [],
   "source": [
    "from Classifier import knn as knn\n",
    "from Training import Datacreate as dc\n",
    "import numpy as np\n",
    "from RealTime_Capture import Capture as capt\n",
    "from RC_Controller import Controller as contr\n",
    "\n",
    "import time\n",
    "\n",
    "#init controller\n",
    "controller = contr.Controller('COM7', 9600)"
   ]
  },
  {
   "cell_type": "code",
   "execution_count": 2,
   "metadata": {},
   "outputs": [],
   "source": [
    "controller.connect()"
   ]
  },
  {
   "cell_type": "code",
   "execution_count": 7,
   "metadata": {},
   "outputs": [
    {
     "name": "stdout",
     "output_type": "stream",
     "text": [
      "sending action: D\n",
      "recieving message from arduino ...\n",
      "arduino says: b''\n",
      "recieving message from arduino ...\n",
      "arduino says: b'BACK\\r\\n'\n"
     ]
    }
   ],
   "source": [
    "controller.sendAction(np.array([0,0,0,0,1]))\n",
    "\n",
    "controller.close()"
   ]
  },
  {
   "cell_type": "code",
   "execution_count": null,
   "metadata": {},
   "outputs": [],
   "source": []
  }
 ],
 "metadata": {
  "interpreter": {
   "hash": "737d79ecb120a5ecfd599086ee9f48d48d46fe1b95a48be50cd613d00f421d13"
  },
  "kernelspec": {
   "display_name": "Python 3.7.11 ('neuro')",
   "language": "python",
   "name": "python3"
  },
  "language_info": {
   "codemirror_mode": {
    "name": "ipython",
    "version": 3
   },
   "file_extension": ".py",
   "mimetype": "text/x-python",
   "name": "python",
   "nbconvert_exporter": "python",
   "pygments_lexer": "ipython3",
   "version": "3.7.11"
  },
  "orig_nbformat": 4
 },
 "nbformat": 4,
 "nbformat_minor": 2
}
