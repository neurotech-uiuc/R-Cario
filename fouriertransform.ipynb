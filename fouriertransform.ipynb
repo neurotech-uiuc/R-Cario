{
 "cells": [
  {
   "cell_type": "code",
   "execution_count": 155,
   "metadata": {},
   "outputs": [],
   "source": [
    "from Training import DataCreateUpdated as dc\n",
    "import numpy as np\n",
    "import matplotlib.pyplot as plt\n",
    "from sklearn import svm\n",
    "import random\n",
    "\n",
    "# rec_paths = [\"OpenBCI-RAW-2021-12-02_19-19-53.txt\", \n",
    "#                 \"OpenBCI-RAW-2021-12-02_19-31-12.txt\", \n",
    "#                 \"Recordings\\Spring_2022\\OpenBCISession_2022-02-16_Evan_JawClench_2\\OpenBCI-RAW-2022-02-16_19-30-28.txt\",\n",
    "#                 \"Recordings\\Spring_2022\\OpenBCISession_2022-02-16_Evan_LeftBlink_1\\OpenBCI-RAW-2022-02-16_19-33-20.txt\",\n",
    "#                 \"Recordings\\Spring_2022\\OpenBCISession_2022-02-16_Evan_LeftBlink_2\\OpenBCI-RAW-2022-02-16_19-39-23.txt\",\n",
    "#                 \"Recordings\\Spring_2022\\OpenBCISession_2022-02-16_Evan_RightBlink_1\\OpenBCI-RAW-2022-02-16_19-42-03.txt\"]\n",
    "# label_paths = [\"JawClench_labels_Ansh_12-02-21-1918.txt\", \n",
    "#                 \"JawClench_labels_Ansh_12-02-21-1930.txt\", \n",
    "#                 \"Recordings\\Spring_2022\\Evan_JawClench_1.txt\",\n",
    "#                 \"Recordings\\Spring_2022\\Evan_LeftBlink_1.txt\",\n",
    "#                 \"Recordings\\Spring_2022\\Evan_LeftBlink_2.txt\",\n",
    "#                 \"Recordings\\Spring_2022\\Evan_RightBlink_1.txt\"]\n",
    "# label_types = [\"JAW_CLENCH\", \n",
    "#                 \"JAW_CLENCH\", \n",
    "#                 \"JAW_CLENCH\",\n",
    "#                 \"L_EYE\",\n",
    "#                 \"L_EYE\",\n",
    "#                 \"R_EYE\"]\n",
    "\n",
    "\n",
    "rec_paths = [\"Recordings\\Spring_2022\\OpenBCISession_2022-03-23_Sam_BrowLower_2\\OpenBCI-RAW-2022-03-23_20-43-17.txt\",\n",
    "            \"Recordings\\Spring_2022\\OpenBCISession_2022-03-23_Sam_BrowLower_1\\OpenBCI-RAW-2022-03-23_20-41-22.txt\",\n",
    "            \"Recordings\\Spring_2022\\OpenBCISession_2022-03-23_Sam_BrowRaise_1\\OpenBCI-RAW-2022-03-23_20-37-06.txt\",\n",
    "            \"Recordings\\Spring_2022\\OpenBCISession_2022-03-23_Sam_BrowRaise_2\\OpenBCI-RAW-2022-03-23_20-39-04.txt\",\n",
    "            \"Recordings\\Spring_2022\\OpenBCISession_2022-03-23_Sam_JawClench_1\\OpenBCI-RAW-2022-03-23_20-33-09.txt\",\n",
    "            \"Recordings\\Spring_2022\\OpenBCISession_2022-03-23_Sam_JawClench_2\\OpenBCI-RAW-2022-03-23_20-34-58.txt\",\n",
    "            \"Recordings\\Spring_2022\\OpenBCISession_2022-03-23_Sam_LeftEye_1\\OpenBCI-RAW-2022-03-23_20-21-37.txt\",\n",
    "            \"Recordings\\Spring_2022\\OpenBCISession_2022-03-23_Sam_LeftEye_2\\OpenBCI-RAW-2022-03-23_20-25-30.txt\",\n",
    "            \"Recordings\\Spring_2022\\OpenBCISession_2022-03-23_Sam_RightEye_1\\OpenBCI-RAW-2022-03-23_20-27-22.txt\",\n",
    "            \"Recordings\\Spring_2022\\OpenBCISession_2022-03-23_Sam_RightEye_2\\OpenBCI-RAW-2022-03-23_20-29-16.txt\"]\n",
    "\n",
    "label_paths = [\"Recordings\\Spring_2022\\OpenBCISession_2022-03-23_Sam_BrowLower_2\\labels.txt\",\n",
    "            \"Recordings\\Spring_2022\\OpenBCISession_2022-03-23_Sam_BrowLower_1\\labels.txt\",\n",
    "            \"Recordings\\Spring_2022\\OpenBCISession_2022-03-23_Sam_BrowRaise_1\\labels.txt\",\n",
    "            \"Recordings\\Spring_2022\\OpenBCISession_2022-03-23_Sam_BrowRaise_2\\labels.txt\",\n",
    "            \"Recordings\\Spring_2022\\OpenBCISession_2022-03-23_Sam_JawClench_1\\labels.txt\",\n",
    "            \"Recordings\\Spring_2022\\OpenBCISession_2022-03-23_Sam_JawClench_2\\labels.txt\",\n",
    "            \"Recordings\\Spring_2022\\OpenBCISession_2022-03-23_Sam_LeftEye_1\\labels.txt\",\n",
    "            \"Recordings\\Spring_2022\\OpenBCISession_2022-03-23_Sam_LeftEye_2\\labels.txt\",\n",
    "            \"Recordings\\Spring_2022\\OpenBCISession_2022-03-23_Sam_RightEye_1\\labels.txt\",\n",
    "            \"Recordings\\Spring_2022\\OpenBCISession_2022-03-23_Sam_RightEye_2\\labels.txt\"]\n",
    "\n",
    "label_types = [\"BROW_DOWN\", \"BROW_DOWN\", \"BROW_UP\", \"BROW_UP\", \"JAW_CLENCH\", \"JAW_CLENCH\", \"L_EYE\", \"L_EYE\", \"R_EYE\", \"R_EYE\"]\n",
    "\n",
    "#Chooses which input data to use\n",
    "inputsToUse = np.arange(len(rec_paths))"
   ]
  },
  {
   "cell_type": "code",
   "execution_count": 156,
   "metadata": {},
   "outputs": [],
   "source": [
    "# Data visualization for the sample data at index sdi\n",
    "# Go to next block for actual code\n",
    "def visualize_data(sdi):\n",
    "    sample_obs = dc.getObservations(rec_paths[sdi], label_paths[sdi], 1000, [0,1,2,3], label_types[sdi])\n",
    "\n",
    "    sample_y_channels_groups, sample_ind_groups, sample_t_groups, sample_l_groups = sample_obs\n",
    "    \n",
    "    na_ind = 0 #non-action\n",
    "    a_ind = 0 #action\n",
    "\n",
    "    plt.figure(figsize=(15,5))\n",
    "    plt.subplot(1,3,1)\n",
    "    plt.xlabel('mean_abs_dev')\n",
    "    plt.ylabel('channel')\n",
    "\n",
    "    colorgood = 'blue'\n",
    "    colorbad = 'red'\n",
    "    pos = -1\n",
    "    for channel_groups in sample_y_channels_groups:\n",
    "        pos = (pos+1)%4\n",
    "        for i in range(channel_groups.shape[0]):\n",
    "            if(sample_l_groups[i][0] == 1):\n",
    "                color = colorbad\n",
    "                if(random.randint(0, 2*na_ind) < 1):\n",
    "                    na_ind = i\n",
    "            else:\n",
    "                color = colorgood\n",
    "                if(random.randint(0, 2*a_ind) < 1):\n",
    "                    a_ind = i\n",
    "            plt.plot(np.mean(np.abs(channel_groups[i] - np.ones_like(channel_groups[i]) * np.mean(channel_groups[i]))), pos, 'x', color = color)\n",
    "    \n",
    "    plt.subplot(1,3,2)\n",
    "    plt.xlabel('index - Action: ' + str(a_ind))\n",
    "    plt.ylabel('voltage')\n",
    "    plt.ylim(0, 2500)\n",
    "    for channel_groups in sample_y_channels_groups:\n",
    "        plt.plot(sample_ind_groups[a_ind], channel_groups[a_ind])\n",
    "\n",
    "\n",
    "    plt.subplot(1,3,3)\n",
    "    plt.xlabel('index - No Action: ' + str(na_ind))\n",
    "    plt.ylabel('voltage')\n",
    "    plt.ylim(0, 2500)\n",
    "    for channel_groups in sample_y_channels_groups:\n",
    "        plt.plot(sample_ind_groups[na_ind], channel_groups[na_ind])"
   ]
  },
  {
   "cell_type": "code",
   "execution_count": 157,
   "metadata": {},
   "outputs": [],
   "source": [
    "# for input in inputsToUse:\n",
    "#     visualize_data(input)"
   ]
  },
  {
   "cell_type": "code",
   "execution_count": 158,
   "metadata": {},
   "outputs": [],
   "source": [
    "def getMeanAbsDeviation(dchannel):\n",
    "    return np.transpose(np.mean(np.abs(dchannel - np.mean(dchannel, axis=2, keepdims=True)), axis=2))\n",
    "\n",
    "def getMean(dchannel):\n",
    "    return np.transpose(np.mean(dchannel, axis=2))\n",
    "\n",
    "def getPercentile(dchannel, percent):\n",
    "    return np.transpose(np.percentile(dchannel, percent, axis=2))\n",
    "\n",
    "def getSpread(dchannel):\n",
    "    return np.transpose(np.max(dchannel, axis=2) - np.min(dchannel, axis=2))\n",
    "\n",
    "def getSpreadPercentile(dchannel, low, high):\n",
    "    return getPercentile(dchannel, high) - getPercentile(dchannel, low)\n",
    "\n",
    "def getFourier(dchannel):\n",
    "    return np.fft.fft(dchannel)\n",
    "    \n",
    "\n",
    "def getPeakCount(dchannel):\n",
    "    ret = np.zeros((dchannel.shape[1], dchannel.shape[0]))\n",
    "    for ch in range(dchannel.shape[0]):\n",
    "        for sample in range(dchannel.shape[1]):\n",
    "            count = 0\n",
    "            for tind in range(4, dchannel.shape[2]-4):\n",
    "                if(dchannel[ch, sample, tind] > dchannel[ch, sample, tind-1] and dchannel[ch, sample, tind] > dchannel[ch, sample, tind+1]\n",
    "                and dchannel[ch, sample, tind] > dchannel[ch, sample, tind-2] and dchannel[ch, sample, tind] > dchannel[ch, sample, tind+2]\n",
    "                and dchannel[ch, sample, tind] > dchannel[ch, sample, tind-3] and dchannel[ch, sample, tind] > dchannel[ch, sample, tind+3]\n",
    "                and dchannel[ch, sample, tind] > dchannel[ch, sample, tind-4] and dchannel[ch, sample, tind] > dchannel[ch, sample, tind+4]):\n",
    "                    count+=1\n",
    "            ret[sample, ch] = count\n",
    "    return ret\n"
   ]
  },
  {
   "cell_type": "code",
   "execution_count": 159,
   "metadata": {},
   "outputs": [
    {
     "ename": "IndentationError",
     "evalue": "unexpected indent (1435064651.py, line 33)",
     "output_type": "error",
     "traceback": [
      "\u001b[1;36m  File \u001b[1;32m\"C:\\Users\\evanc\\AppData\\Local\\Temp\\ipykernel_23788\\1435064651.py\"\u001b[1;36m, line \u001b[1;32m33\u001b[0m\n\u001b[1;33m    y_channels_groups, ind_groups, t_groups, l_groups = obs\u001b[0m\n\u001b[1;37m    ^\u001b[0m\n\u001b[1;31mIndentationError\u001b[0m\u001b[1;31m:\u001b[0m unexpected indent\n"
     ]
    }
   ],
   "source": [
    "# Loads in X and Y\n",
    "XMean = None\n",
    "XMeanDev = None\n",
    "X90 = None\n",
    "X10 = None\n",
    "Peaks = None\n",
    "y = None\n",
    "Fourier = None\n",
    "ychan = None\n",
    "for i in inputsToUse:\n",
    "    obs = dc.getObservations(rec_paths[i], label_paths[i], 1000, [0,1,2,3], label_types[i])\n",
    "    y_channels_groups, ind_groups, t_groups, l_groups = obs\n",
    "    if XMean is not None:\n",
    "        XMean = np.concatenate((XMean, getMean(y_channels_groups)))\n",
    "        XMeanDev = np.concatenate((XMeanDev, getMeanAbsDeviation(y_channels_groups)))\n",
    "        X90 = np.concatenate((X90, getPercentile(y_channels_groups, 90)))\n",
    "        X10 = np.concatenate((X10, getPercentile(y_channels_groups, 10)))\n",
    "        Peaks = np.concatenate((Peaks, getPeakCount(y_channels_groups)))\n",
    "        y = np.concatenate((y, l_groups))\n",
    "    else:\n",
    "        XMean = getMean(y_channels_groups)\n",
    "        XMeanDev = getMeanAbsDeviation(y_channels_groups)\n",
    "        X90 = getPercentile(y_channels_groups, 90)\n",
    "        X10 = getPercentile(y_channels_groups, 10)\n",
    "        Peaks = getPeakCount(y_channels_groups)\n",
    "        Fourier = getFourier(y_channels_groups)\n",
    "        ychan = y_channels_groups\n",
    "        y = l_groups\n",
    "        \n",
    "plt.plot(y_channels_groups[1][0])\n",
    "\n",
    "obs = dc.getObservations(rec_paths[i], label_paths[i], 1000, [0,1,2,3], label_types[i])\n",
    "y_channels_groups, ind_groups, t_groups, l_groups = obs\n",
    "\n",
    "\n",
    "\n",
    "\n",
    "# featureList = [XMean, XMeanDev]\n",
    "featureList = [XMeanDev, XMean, Peaks]\n",
    "for feature in featureList:\n",
    "    if(X is None):\n",
    "        X = feature\n",
    "    else:\n",
    "        X = np.concatenate((X, feature), axis=1)\n",
    "\n",
    "print(X.shape, y.shape)\n",
    "\n"
   ]
  },
  {
   "cell_type": "code",
   "execution_count": null,
   "metadata": {},
   "outputs": [],
   "source": [
    "#test-train split\n",
    "from sklearn.model_selection import train_test_split\n",
    "\n",
    "X_res, X_test, y_res, y_test = train_test_split(X, y, test_size=0.4, random_state = 4)"
   ]
  },
  {
   "cell_type": "code",
   "execution_count": null,
   "metadata": {},
   "outputs": [
    {
     "ename": "ModuleNotFoundError",
     "evalue": "No module named 'imblearn'",
     "output_type": "error",
     "traceback": [
      "\u001b[1;31m---------------------------------------------------------------------------\u001b[0m",
      "\u001b[1;31mModuleNotFoundError\u001b[0m                       Traceback (most recent call last)",
      "\u001b[1;32m~\\AppData\\Local\\Temp\\ipykernel_23788\\1360584321.py\u001b[0m in \u001b[0;36m<module>\u001b[1;34m\u001b[0m\n\u001b[1;32m----> 1\u001b[1;33m \u001b[1;32mfrom\u001b[0m \u001b[0mimblearn\u001b[0m\u001b[1;33m.\u001b[0m\u001b[0mover_sampling\u001b[0m \u001b[1;32mimport\u001b[0m \u001b[0mSMOTE\u001b[0m\u001b[1;33m\u001b[0m\u001b[1;33m\u001b[0m\u001b[0m\n\u001b[0m\u001b[0;32m      2\u001b[0m \u001b[1;33m\u001b[0m\u001b[0m\n\u001b[0;32m      3\u001b[0m \u001b[1;32mdef\u001b[0m \u001b[0moversample\u001b[0m\u001b[1;33m(\u001b[0m\u001b[0mX\u001b[0m\u001b[1;33m,\u001b[0m \u001b[0my\u001b[0m\u001b[1;33m)\u001b[0m\u001b[1;33m:\u001b[0m\u001b[1;33m\u001b[0m\u001b[1;33m\u001b[0m\u001b[0m\n\u001b[0;32m      4\u001b[0m     \u001b[0mX_combined\u001b[0m \u001b[1;33m=\u001b[0m \u001b[0mnp\u001b[0m\u001b[1;33m.\u001b[0m\u001b[0mconcatenate\u001b[0m\u001b[1;33m(\u001b[0m\u001b[1;33m(\u001b[0m\u001b[0mX\u001b[0m\u001b[1;33m,\u001b[0m \u001b[0my\u001b[0m\u001b[1;33m)\u001b[0m\u001b[1;33m,\u001b[0m \u001b[0maxis\u001b[0m\u001b[1;33m=\u001b[0m\u001b[1;36m1\u001b[0m\u001b[1;33m)\u001b[0m\u001b[1;33m\u001b[0m\u001b[1;33m\u001b[0m\u001b[0m\n\u001b[0;32m      5\u001b[0m     \u001b[0mover_sampler\u001b[0m \u001b[1;33m=\u001b[0m \u001b[0mSMOTE\u001b[0m\u001b[1;33m(\u001b[0m\u001b[0mrandom_state\u001b[0m\u001b[1;33m=\u001b[0m\u001b[1;36m4\u001b[0m\u001b[1;33m)\u001b[0m\u001b[1;33m\u001b[0m\u001b[1;33m\u001b[0m\u001b[0m\n",
      "\u001b[1;31mModuleNotFoundError\u001b[0m: No module named 'imblearn'"
     ]
    }
   ],
   "source": [
    "from imblearn.over_sampling import SMOTE\n",
    "\n",
    "def oversample(X, y):\n",
    "    X_combined = np.concatenate((X, y), axis=1)\n",
    "    over_sampler = SMOTE(random_state=4)\n",
    "    X_combined, _ = over_sampler.fit_resample(X_combined, np.argmax(y, axis=1))\n",
    "    X_res = X_combined[:, 0:X.shape[1]]\n",
    "    y_res = X_combined[:, X.shape[1]:X_combined.shape[1]]\n",
    "    return X_res, y_res\n",
    "\n",
    "# Over Sampling\n",
    "X_res, y_res = oversample(X_res, y_res)\n",
    "X_test, y_test = oversample(X_test, y_test)\n",
    "\n",
    "\n",
    "# Under Sampling\n",
    "# from imblearn.under_sampling import RandomUnderSampler\n",
    "# under_sampler = RandomUnderSampler(sampling_strategy = 'majority', random_state=42, replacement = True)\n",
    "# print(X.shape, y.shape)\n",
    "# X_res, y_res = under_sampler.fit_resample(X_combined, np.argmax(y, axis=1))\n",
    "# print(X_res.shape, y_res.shape)\n",
    "# X = X_res[:, 0:X.shape[1]]\n",
    "# y = X_res[:, X.shape[1]:X_res.shape[1]]"
   ]
  },
  {
   "cell_type": "code",
   "execution_count": null,
   "metadata": {},
   "outputs": [
    {
     "data": {
      "text/plain": [
       "SVC()"
      ]
     },
     "execution_count": 244,
     "metadata": {},
     "output_type": "execute_result"
    }
   ],
   "source": [
    "# # Create as many classifiers as needed\n",
    "# classifiers = []\n",
    "# for i in range(0, num_enabled):\n",
    "#     classifiers.append(svm.SVC(probability=True))\n",
    "#     classifiers[i].fit(X_res, y_res[:,i])\n",
    "\n",
    "from sklearn.neighbors import KNeighborsClassifier\n",
    "\n",
    "# svm_classifier = svm.SVC()\n",
    "# svm_classifier.fit(X_res, np.argmax(y_res, axis=1))\n",
    "\n",
    "knn_classifier = KNeighborsClassifier(3)\n",
    "knn_classifier.fit(X_res, np.argmax(y_res, axis=1))\n"
   ]
  },
  {
   "cell_type": "code",
   "execution_count": null,
   "metadata": {},
   "outputs": [
    {
     "name": "stdout",
     "output_type": "stream",
     "text": [
      "Results (KNN): \n",
      "Recall: \t [0.84810127 0.63924051 0.67088608 0.83544304 0.71518987 0.75316456]\n",
      "Precision: \t [0.39528024 0.90990991 0.94642857 0.94285714 0.92622951 0.95967742]\n",
      "Accuracy:\t 0.7436708860759493\n"
     ]
    },
    {
     "data": {
      "text/plain": [
       "<sklearn.metrics._plot.confusion_matrix.ConfusionMatrixDisplay at 0x26215879dc0>"
      ]
     },
     "execution_count": 246,
     "metadata": {},
     "output_type": "execute_result"
    },
    {
     "data": {
      "image/png": "[encoded data removed]",
      "text/plain": [
       "<Figure size 432x288 with 2 Axes>"
      ]
     },
     "metadata": {
      "needs_background": "light"
     },
     "output_type": "display_data"
    }
   ],
   "source": [
    "import sklearn\n",
    "\n",
    "X_eval = X_test\n",
    "y_eval = y_test\n",
    "\n",
    "# predictions = svm_classifier.predict(X_eval)\n",
    "# recall = sklearn.metrics.recall_score(np.argmax(y_eval, axis=1), predictions, average=None)\n",
    "# precision = sklearn.metrics.precision_score(np.argmax(y_eval, axis=1), predictions, average=None)\n",
    "# accuracy = sklearn.metrics.accuracy_score(np.argmax(y_eval, axis=1), predictions)\n",
    "# print(\"Results (SVM): \")\n",
    "# print(\"Recall:\", recall)\n",
    "# print(\"Precision:\", precision)\n",
    "# print(\"Accuracy:\", accuracy)\n",
    "# print(\"\\n\")\n",
    "\n",
    "predictions = knn_classifier.predict(X_eval)\n",
    "recall = sklearn.metrics.recall_score(np.argmax(y_eval, axis=1), predictions, average=None)\n",
    "precision = sklearn.metrics.precision_score(np.argmax(y_eval, axis=1), predictions, average=None)\n",
    "accuracy = sklearn.metrics.accuracy_score(np.argmax(y_eval, axis=1), predictions)\n",
    "print(\"Results (KNN): \")\n",
    "print(\"Recall: \\t\", recall)\n",
    "print(\"Precision: \\t\", precision)\n",
    "print(\"Accuracy:\\t\", accuracy)\n",
    "sklearn.metrics.ConfusionMatrixDisplay.from_predictions(np.argmax(y_eval, axis=1), predictions)"
   ]
  },
  {
   "cell_type": "code",
   "execution_count": null,
   "metadata": {},
   "outputs": [],
   "source": [
    "# correct = 0\n",
    "# total = 0\n",
    "\n",
    "# enabledClassifiers = np.arange(0, y.shape[1])[:num_enabled]\n",
    "# RecallRate = np.zeros([num_enabled, 2])\n",
    "# Precision = np.zeros([num_enabled, 2])\n",
    "\n",
    "# # Comment this to test on all data\n",
    "# # X = X_test\n",
    "# # y = y_test\n",
    "\n",
    "# for i in range(X.shape[0]):\n",
    "#     # if you want to make it more or less likely to predict no action change the threshold to a larger/smaller value\n",
    "#     maxVal = 0.5\n",
    "#     maxInd = 0\n",
    "\n",
    "#     #Enable as many classifiers as you need to\n",
    "#     for c in range(1, len(classifiers)):\n",
    "#         if(classifiers[c].predict_proba(X[i].reshape(1, -1))[0][1]>maxVal):\n",
    "#             maxVal = classifiers[c].predict_proba(X[i].reshape(1, -1))[0][1]\n",
    "#             maxInd = c\n",
    "\n",
    "# #Getting Precision and Recall Data\n",
    "#     if(y[i][maxInd]==1):\n",
    "#         correct+=1\n",
    "#         Precision[maxInd][0]+=1\n",
    "#         RecallRate[maxInd][0]+=1\n",
    "#     for xx in range(num_enabled):\n",
    "#         if(y[i][xx]==1):\n",
    "#             RecallRate[xx][1]+=1\n",
    "#     total+=1\n",
    "#     Precision[maxInd][1]+=1\n",
    "# print(correct/total)\n",
    "# print(\"Recall\")\n",
    "# for row in RecallRate:\n",
    "#     print(row, row[0]/row[1])\n",
    "# print(\"Precision\")\n",
    "# for row in Precision:\n",
    "#     print(row, row[0]/row[1])"
   ]
  }
 ],
 "metadata": {
  "interpreter": {
   "hash": "3f0226f8970b7fd921ddb6e667a73322eca69822d5a29d05eb027cdb50614cb4"
  },
  "kernelspec": {
   "display_name": "Python 3.9.7 64-bit (windows store)",
   "name": "python3"
  },
  "language_info": {
   "codemirror_mode": {
    "name": "ipython",
    "version": 3
   },
   "file_extension": ".py",
   "mimetype": "text/x-python",
   "name": "python",
   "nbconvert_exporter": "python",
   "pygments_lexer": "ipython3",
   "version": "3.7.3"
  },
  "orig_nbformat": 4
 },
 "nbformat": 4,
 "nbformat_minor": 2
}
