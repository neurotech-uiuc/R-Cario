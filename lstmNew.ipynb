{
 "cells": [
  {
   "cell_type": "code",
   "execution_count": null,
   "metadata": {},
   "outputs": [],
   "source": [
    "from labeler import *\n",
    "\n",
    "data = getLabels(\"JawClench_labels_Ansh_12-02-21-1918.txt\")\n",
    "startTime = data[0]\n",
    "labels = data[1]\n",
    "data = getData(\"OpenBCI-RAW-2021-12-02_19-19-53.txt\",labels,startTime)"
   ]
  },
  {
   "cell_type": "code",
   "execution_count": null,
   "metadata": {},
   "outputs": [],
   "source": [
    "import numpy as np\n",
    "from sklearn import svm\n",
    "X = data[:][0:4]\n",
    "y = data[:][4:]\n",
    "\n",
    "\n",
    "#mean deviation \n",
    "processedXLE = np.transpose(np.mean(np.abs(y_channels_groupsLE - np.mean(y_channels_groupsLE, axis=2, keepdims=True)), axis=2))\n",
    "processedXRE = np.transpose(np.mean(np.abs(y_channels_groupsRE - np.mean(y_channels_groupsRE, axis=2, keepdims=True)), axis=2))\n",
    "print(processedXLE.shape, processedXRE.shape)\n",
    "ProcessedX = np.concatenate((processedXLE, processedXRE))\n",
    "\n",
    "#Using mean and mean deviation\n",
    "# X = np.concatenate((X, ProcessedX), axis = 1)\n",
    "#Using just mean deviation\n",
    "X = ProcessedX\n",
    "\n",
    "print(X.shape, y.shape)\n",
    "\n",
    "X_combined = np.concatenate((X, y), axis = 1)"
   ]
  }
 ],
 "metadata": {
  "language_info": {
   "name": "python"
  },
  "orig_nbformat": 4
 },
 "nbformat": 4,
 "nbformat_minor": 2
}
