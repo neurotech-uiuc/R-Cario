{
 "cells": [
  {
   "cell_type": "code",
   "execution_count": 103,
   "metadata": {},
   "outputs": [
    {
     "name": "stdout",
     "output_type": "stream",
     "text": [
      "2021-12-02 19:19:55.073396\n",
      "2021-12-02 19:31:14.177762\n",
      "2022-02-16 19:30:30.103622\n"
     ]
    }
   ],
   "source": [
    "from labeler import *\n",
    "\n",
    "data = getLabels(\"JawClench_labels_Ansh_12-02-21-1918.txt\")\n",
    "startTime = data[0]\n",
    "labels = data[1]\n",
    "data = getData(\"OpenBCI-RAW-2021-12-02_19-19-53.txt\",labels,startTime)\n",
    "\n",
    "data2 = getLabels(\"JawClench_labels_Ansh_12-02-21-1930.txt\")\n",
    "startTime = data2[0]\n",
    "labels = data2[1]\n",
    "data2 = getData(\"OpenBCI-RAW-2021-12-02_19-31-12.txt\", labels, startTime)\n",
    "\n",
    "data3 = getLabels(\"Recordings\\Spring_2022\\Evan_JawClench_1.txt\")\n",
    "startTime = data3[0]\n",
    "labels = data3[1]\n",
    "data3 = getData(\"Recordings\\Spring_2022\\OpenBCISession_2022-02-16_Evan_JawClench_2\\OpenBCI-RAW-2022-02-16_19-30-28.txt\", labels, startTime)\n",
    "\n",
    "data = np.append(data, data2, axis=0).tolist()\n",
    "data = np.append(data, data3, axis=0).tolist()\n",
    "\n",
    "\n",
    "for i in range (len(data)):\n",
    "    for j in range(len(data[i])):\n",
    "        if j < len(data[i])-1:\n",
    "            data[i][j] = (float)(data[i][j])\n",
    "        else:\n",
    "            data[i][j] = (int)(data[i][j])\n",
    "data = np.array(data)"
   ]
  },
  {
   "cell_type": "code",
   "execution_count": 104,
   "metadata": {},
   "outputs": [],
   "source": [
    "from sklearn import svm\n",
    "bsize = 200\n",
    "data = np.array(data)\n",
    "X = np.zeros((len(data)//bsize, 4))\n",
    "y = np.zeros(len(data)//bsize)\n",
    "for i in range(len(data)//bsize):\n",
    "    curX = data[bsize*i: bsize*(i+1), :-1]\n",
    "    curY = data[bsize*i: bsize*(i+1), -1:]\n",
    "    y[i] = np.rint(np.mean(curY))\n",
    "    averages = (np.mean(curX, axis=0, keepdims=True))\n",
    "    mean_deviation = np.mean(curX - np.matmul(np.ones((bsize, 1)), (averages)), axis=0)\n",
    "    X[i] = mean_deviation"
   ]
  },
  {
   "cell_type": "code",
   "execution_count": 105,
   "metadata": {},
   "outputs": [
    {
     "name": "stdout",
     "output_type": "stream",
     "text": [
      "(205, 4)\n",
      "(205,)\n"
     ]
    }
   ],
   "source": [
    "print(X.shape)\n",
    "print(y.shape)"
   ]
  },
  {
   "cell_type": "code",
   "execution_count": 106,
   "metadata": {},
   "outputs": [
    {
     "data": {
      "text/plain": [
       "SVC(probability=True)"
      ]
     },
     "execution_count": 106,
     "metadata": {},
     "output_type": "execute_result"
    }
   ],
   "source": [
    "from sklearn.model_selection import train_test_split\n",
    "\n",
    "X_res, X_test, y_res, y_test = train_test_split(X, y, test_size=0.3, random_state = 4)\n",
    "X = X_res\n",
    "y = y_res\n",
    "model = svm.SVC(probability=True)\n",
    "model.fit(X, y)"
   ]
  },
  {
   "cell_type": "code",
   "execution_count": 107,
   "metadata": {},
   "outputs": [
    {
     "name": "stdout",
     "output_type": "stream",
     "text": [
      "0.3387096774193548\n",
      "0.3804878048780488\n"
     ]
    }
   ],
   "source": [
    "correct = 0\n",
    "total = 0\n",
    "\n",
    "# X = np.concatenate((X_test, X))\n",
    "# y = np.concatenate((y_test, y))\n",
    "\n",
    "val_error = np.mean(np.abs(model.predict(X_test) - y_test))\n",
    "print(val_error)\n",
    "\n",
    "X = np.concatenate((X_test, X_res))\n",
    "y = np.concatenate((y_test, y_res))\n",
    "\n",
    "overall_error = np.mean(np.abs(model.predict(X) - y))\n",
    "print(overall_error)\n",
    "        "
   ]
  }
 ],
 "metadata": {
  "interpreter": {
   "hash": "c349cda20fd39d04842b27c8c1cf5703ae8b0c98cbdbfcf5ebbcac2f7e1e0054"
  },
  "kernelspec": {
   "display_name": "Python 3.9.10 64-bit",
   "language": "python",
   "name": "python3"
  },
  "language_info": {
   "codemirror_mode": {
    "name": "ipython",
    "version": 3
   },
   "file_extension": ".py",
   "mimetype": "text/x-python",
   "name": "python",
   "nbconvert_exporter": "python",
   "pygments_lexer": "ipython3",
   "version": "3.9.10"
  },
  "orig_nbformat": 4
 },
 "nbformat": 4,
 "nbformat_minor": 2
}
